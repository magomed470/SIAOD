{
 "cells": [
  {
   "cell_type": "markdown",
   "id": "244314fb",
   "metadata": {},
   "source": [
    "# Задание 1"
   ]
  },
  {
   "cell_type": "markdown",
   "id": "64630386",
   "metadata": {},
   "source": [
    "Даны две строки: `s1` и `s2` с одинаковым размером.\n",
    "\n",
    "Проверьте, может ли некоторая перестановка строки `s1` “победить” некоторую перестановку строки `s2` или наоборот.\n",
    "\n",
    "Строка x может “победить” строку y (обе имеют размер n), если `x[i] >= y[i]` (в алфавитном порядке) для всех i от 0 до n-1.\n"
   ]
  },
  {
   "cell_type": "markdown",
   "id": "cf51dab2",
   "metadata": {},
   "source": [
    "## Ввод"
   ]
  },
  {
   "cell_type": "markdown",
   "id": "d697a747",
   "metadata": {},
   "source": [
    "`abc`\n",
    "`xya`"
   ]
  },
  {
   "cell_type": "markdown",
   "id": "50b10a2e",
   "metadata": {},
   "source": [
    "## Вывод"
   ]
  },
  {
   "cell_type": "markdown",
   "id": "55442a49",
   "metadata": {},
   "source": [
    "`True`\n",
    "\n",
    "### Исполняемый код записать в ячейку ниже:"
   ]
  },
  {
   "cell_type": "code",
   "execution_count": 1,
   "id": "3b0d440a",
   "metadata": {},
   "outputs": [
    {
     "name": "stdout",
     "output_type": "stream",
     "text": [
      "True\n"
     ]
    }
   ],
   "source": [
    "def check_strings(s1, s2):\n",
    "    l1 = sorted(list(s1))\n",
    "    l2 = sorted(list(s2))\n",
    "    ret1 = True\n",
    "    ret2 = True\n",
    "    for i in range(len(l1)):\n",
    "        if l1[i] < l2[i]:\n",
    "            ret1 = False\n",
    "        elif l2[i] < l1[i]:\n",
    "            ret2 = False\n",
    "    return ret1 or ret2\n",
    "\n",
    "s1 = input()\n",
    "s2 = input()\n",
    "print(check_strings(s1, s2))"
   ]
  },
  {
   "cell_type": "markdown",
   "id": "b3a969a6",
   "metadata": {},
   "source": [
    "# Задание 2"
   ]
  },
  {
   "cell_type": "markdown",
   "id": "9c1ce05d",
   "metadata": {},
   "source": [
    "Дана строка `s`, вернуть самую длинную полиндромную подстроку в `s`."
   ]
  },
  {
   "cell_type": "markdown",
   "id": "20415c0e",
   "metadata": {},
   "source": [
    "## Ввод"
   ]
  },
  {
   "cell_type": "markdown",
   "id": "e77fcb44",
   "metadata": {},
   "source": [
    "`babad`"
   ]
  },
  {
   "cell_type": "markdown",
   "id": "49996449",
   "metadata": {},
   "source": [
    "## Вывод"
   ]
  },
  {
   "cell_type": "markdown",
   "id": "75be2464",
   "metadata": {},
   "source": [
    "`aba` или `bab`"
   ]
  },
  {
   "cell_type": "markdown",
   "id": "12ef9771",
   "metadata": {},
   "source": [
    "## Исполняемый код записывать в ячейку ниже"
   ]
  },
  {
   "cell_type": "code",
   "execution_count": null,
   "id": "3f06c4fc",
   "metadata": {},
   "outputs": [],
   "source": [
    "def is_palindrome(s):\n",
    "    i = 0\n",
    "    j = len(s) - 1;\n",
    "    while i < j:\n",
    "        if s[i] != s[j]:\n",
    "            return False\n",
    "        i += 1\n",
    "        j -= 1\n",
    "    return True\n",
    "\n",
    "def longest_palindrome(s):\n",
    "    ret = \"\"\n",
    "    for i in range(len(s)):\n",
    "        for j in reversed(range(i + 1, len(s) + 1)):\n",
    "            if is_palindrome(s[i:j]) and len(s[i:j]) > len(ret):\n",
    "                ret = s[i:j]\n",
    "                break\n",
    "    return ret\n",
    "\n",
    "s = input()\n",
    "print(longest_palindrome(s))"
   ]
  },
  {
   "cell_type": "markdown",
   "id": "5f54b630",
   "metadata": {},
   "source": [
    "# Задание 3"
   ]
  },
  {
   "cell_type": "markdown",
   "id": "566f1d3b",
   "metadata": {},
   "source": [
    "Вернуть количество отдельных непустых подстрок текста, которые могут быть записаны как конкатенация некоторой строки с самой собой (т.е. она может быть записана, как `a + a`, где `a` - некоторая строка)."
   ]
  },
  {
   "cell_type": "markdown",
   "id": "0f734fd8",
   "metadata": {},
   "source": [
    "## Ввод"
   ]
  },
  {
   "cell_type": "markdown",
   "id": "e0be5554",
   "metadata": {},
   "source": [
    "`aabb`"
   ]
  },
  {
   "cell_type": "markdown",
   "id": "ab8eda0b",
   "metadata": {},
   "source": [
    "## Вывод"
   ]
  },
  {
   "cell_type": "markdown",
   "id": "1d716d36",
   "metadata": {},
   "source": [
    "2"
   ]
  },
  {
   "cell_type": "markdown",
   "id": "fcd91349",
   "metadata": {},
   "source": [
    "## Исполняемый код записывать в ячейку ниже"
   ]
  },
  {
   "cell_type": "code",
   "execution_count": null,
   "id": "be07379d",
   "metadata": {},
   "outputs": [],
   "source": [
    "def check_substr(s):\n",
    "    s1 = s[0:len(s) // 2]\n",
    "    s2 = s[len(s) // 2:len(s)]\n",
    "    if s1 == s2:\n",
    "        return True\n",
    "    return False\n",
    "\n",
    "def cnt_cat_substrs(s):\n",
    "    cnt = 0\n",
    "    for i in range(len(s)):\n",
    "        for j in range(i + 2, len(s) + 1, 2):\n",
    "            if check_substr(s[i:j]):\n",
    "                cnt += 1\n",
    "    return cnt\n",
    "\n",
    "s = input()\n",
    "print(cnt_cat_substrs(s))"
   ]
  }
 ],
 "metadata": {
  "kernelspec": {
   "display_name": "Python 3 (ipykernel)",
   "language": "python",
   "name": "python3"
  },
  "language_info": {
   "codemirror_mode": {
    "name": "ipython",
    "version": 3
   },
   "file_extension": ".py",
   "mimetype": "text/x-python",
   "name": "python",
   "nbconvert_exporter": "python",
   "pygments_lexer": "ipython3",
   "version": "3.9.6"
  }
 },
 "nbformat": 4,
 "nbformat_minor": 5
}
