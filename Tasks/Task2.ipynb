{
 "cells": [
  {
   "cell_type": "markdown",
   "id": "arctic-stocks",
   "metadata": {},
   "source": [
    "### Задание №1\n",
    "Массив A состоит из целых положительных чисел длин отрезков. Составьте из трех отрезков такой треугольник, чтобы его периметр был максимально возможным. Если невозможно составить треугольник с положительной площадью функция возвращает 0."
   ]
  },
  {
   "cell_type": "code",
   "execution_count": null,
   "id": "caring-truck",
   "metadata": {
    "scrolled": false
   },
   "outputs": [],
   "source": [
    "import random\n",
    "\n",
    "def check_sides(a, b, c, p):\n",
    "    if (a >= b + c or b >= a + c or c >= a + b or p > a + b + c):\n",
    "        return False\n",
    "    return True\n",
    "\n",
    "def triangle(A):\n",
    "    A.sort(reverse = True)\n",
    "    sides = []\n",
    "    maxp = 0\n",
    "    for i in range(2, len(A)):\n",
    "        if check_sides(A[i - 2], A[i - 1], A[i], maxp):\n",
    "            maxp = A[i - 2] + A[i - 1] + A[i]\n",
    "            sides = [A[i - 2], A[i - 1], A[i]]\n",
    "    if maxp == 0:\n",
    "        return maxp\n",
    "    return sides\n",
    "\n",
    "A = []\n",
    "for i in range(10):\n",
    "    A.append(random.randint(1, 10))\n",
    "print(A)\n",
    "print(triangle(A))"
   ]
  },
  {
   "cell_type": "markdown",
   "id": "maritime-conversation",
   "metadata": {},
   "source": [
    "### Задание №2\n",
    "Дан массив неотрицательных целых чисел nums. Расположите их в таком порядке, чтобы вместе они образовали максимально возможное число. Замечание: Результат может быть очень большим числом, поэтому представьте его как string, а не integer."
   ]
  },
  {
   "cell_type": "code",
   "execution_count": null,
   "id": "alert-charm",
   "metadata": {
    "scrolled": false
   },
   "outputs": [],
   "source": [
    "import random\n",
    "\n",
    "def big_number(nums):\n",
    "    for i in range(len(nums)):\n",
    "        nums[i] = str(nums[i])\n",
    "    nums.sort(reverse = True)\n",
    "    retnum = \"\"\n",
    "    for i in range(len(nums)):\n",
    "        retnum += nums[i]\n",
    "    return retnum\n",
    "\n",
    "nums = []\n",
    "for i in range(15):\n",
    "    nums.append(random.randint(0, 1000))\n",
    "\n",
    "print(nums)\n",
    "print(big_number(nums))"
   ]
  },
  {
   "cell_type": "markdown",
   "id": "catholic-roots",
   "metadata": {},
   "source": [
    "### Задание №3\n",
    "Дана матрица mat размером m * n, значения целочисленные. Напишите функцию, сортирующую каждую диагональ матрицы по возрастанию и возвращающую получившуюся матрицу."
   ]
  },
  {
   "cell_type": "code",
   "execution_count": null,
   "id": "cleared-anniversary",
   "metadata": {
    "scrolled": false
   },
   "outputs": [],
   "source": [
    "import random\n",
    "\n",
    "def print_matrix(mat):\n",
    "    for i in range(len(mat)):\n",
    "        for j in range(len(mat[0])):\n",
    "            print(mat[i][j], end = ' ')\n",
    "        print()\n",
    "    print()\n",
    "\n",
    "def rand_matrix(m, n, min_lim, max_lim):\n",
    "    matrix = []\n",
    "    for i in range(m):\n",
    "        matrix.append([0] * n)\n",
    "        for j in range(n):\n",
    "            matrix[i][j] = random.randint(min_lim, max_lim)\n",
    "    return matrix\n",
    "        \n",
    "def sort_diagonals(mat):\n",
    "    length = min(len(mat), len(mat[0]))\n",
    "    d1 = []\n",
    "    d2 = []\n",
    "    for i in range(length):\n",
    "        d1.append(mat[i][i])\n",
    "        d2.append(mat[-i - 1][i])\n",
    "    d1.sort()\n",
    "    d2.sort()\n",
    "    for i in range(length):\n",
    "        mat[i][i] = d1[i]\n",
    "        mat[-i - 1][i] = d2[i]\n",
    "        \n",
    "matrix = rand_matrix(4, 6, 10, 99)\n",
    "print_matrix(matrix)\n",
    "\n",
    "sort_diagonals(matrix)\n",
    "print_matrix(matrix)"
   ]
  }
 ],
 "metadata": {
  "kernelspec": {
   "display_name": "Python 3 (ipykernel)",
   "language": "python",
   "name": "python3"
  },
  "language_info": {
   "codemirror_mode": {
    "name": "ipython",
    "version": 3
   },
   "file_extension": ".py",
   "mimetype": "text/x-python",
   "name": "python",
   "nbconvert_exporter": "python",
   "pygments_lexer": "ipython3",
   "version": "3.10.2"
  }
 },
 "nbformat": 4,
 "nbformat_minor": 5
}
