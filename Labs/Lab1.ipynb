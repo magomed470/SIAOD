{
 "cells": [
  {
   "cell_type": "markdown",
   "id": "fifteen-sailing",
   "metadata": {},
   "source": [
    "# Лабораторная работа №1\n",
    "## Выполнил студент группы БВТ2005\n",
    "Нурмагомедов Магомед"
   ]
  },
  {
   "cell_type": "markdown",
   "id": "particular-syndicate",
   "metadata": {},
   "source": [
    "### Оглавление\n",
    "1. [Задание 1](#Задание-№1)\n",
    "2. [Задание 2](#Задание-№2)\n",
    "3. [Задание 3](#Задание-№3)\n",
    "4. [Вывод](#Вывод)"
   ]
  },
  {
   "cell_type": "markdown",
   "id": "arctic-stocks",
   "metadata": {},
   "source": [
    "### Задание №1\n",
    "<i> Вызвать функцию print() и передать туда строку Hello, World! </i>"
   ]
  },
  {
   "cell_type": "code",
   "execution_count": null,
   "id": "caring-truck",
   "metadata": {
    "scrolled": true
   },
   "outputs": [
    {
     "name": "stdout",
     "output_type": "stream",
     "text": [
      "Hello, World!\n"
     ]
    }
   ],
   "source": [
    "print('Hello, World!')"
   ]
  },
  {
   "cell_type": "markdown",
   "id": "maritime-conversation",
   "metadata": {},
   "source": [
    "### Задание №2\n",
    "Написать генератор случайных матриц(многомерных), который принимает\n",
    "опциональные параметры <b>m</b>, <b>n</b>, <b>min_limit</b>, <b>max_limit</b>, где <b>m</b> и <b>n</b> указывают размер\n",
    "матрицы, а <b>min_lim</b> и <b>max_lim</b> - минимальное и максимальное значение для\n",
    "генерируемого числа."
   ]
  },
  {
   "cell_type": "code",
   "execution_count": null,
   "id": "built-contact",
   "metadata": {},
   "outputs": [],
   "source": [
    "import random\n",
    "import time\n",
    "import math"
   ]
  },
  {
   "cell_type": "code",
   "execution_count": null,
   "id": "alert-charm",
   "metadata": {},
   "outputs": [
    {
     "name": "stdout",
     "output_type": "stream",
     "text": [
      "16 90 79 15 25\n",
      "86 38 96 34 93\n",
      "81 41 36 54 94\n",
      "84 43 97 65 55\n",
      "78 68 26 69 84\n"
     ]
    }
   ],
   "source": [
    "from random import randint\n",
    "\n",
    "\n",
    "user_m = int(5)\n",
    "user_n = int(5)\n",
    "user_min_limit = int(10)\n",
    "user_max_limit = int(99)\n",
    "\n",
    "\n",
    "\n",
    "def out_matr(mat):\n",
    "    for line in mat:\n",
    "        out = [str(el) for el in line]\n",
    "        print(\" \".join(out))\n",
    "\n",
    "\n",
    "def matrix_generator(m, n, min_lim, max_lim):\n",
    "    return [[randint(int(min_lim), int(max_lim)) for j in range(int(n))] for i in range(int(m))]\n",
    "\n",
    "\n",
    "generated_matrix = matrix_generator(user_m, user_n, user_min_limit, user_max_limit)\n",
    "out_matr(generated_matrix)"
   ]
  },
  {
   "cell_type": "markdown",
   "id": "catholic-roots",
   "metadata": {},
   "source": [
    "### Задание №3\n",
    "Реализовать методы сортировки строк числовой матрицы в соответствии с\n",
    "заданием. Оценить время работы каждого алгоритма сортировки и сравнить его со\n",
    "временем стандартной функции сортировки. Испытания проводить на сгенерированных\n",
    "матрицах."
   ]
  },
  {
   "cell_type": "code",
   "execution_count": null,
   "id": "opposed-creature",
   "metadata": {},
   "outputs": [],
   "source": [
    "import copy"
   ]
  },
  {
   "cell_type": "code",
   "execution_count": null,
   "id": "cleared-anniversary",
   "metadata": {},
   "outputs": [
    {
     "name": "stdout",
     "output_type": "stream",
     "text": [
      "15 16 25 79 90\n",
      "34 38 86 93 96\n",
      "36 41 54 81 94\n",
      "43 55 65 84 97\n",
      "26 68 69 78 84\n",
      "--- 3 ms ---\n"
     ]
    }
   ],
   "source": [
    "# Сортировка выбором.\n",
    "# Берётся срез массива, в котором минимальный элемент переносят в самый левый угол,\n",
    "# после чего срез уменьшается и цикл повторяется.\n",
    "start_time = time.time()\n",
    "def selection_sort(line):\n",
    "    for i in range(len(line)):\n",
    "        temp = line[i]\n",
    "        index = i\n",
    "        for j in range(i, len(line)):\n",
    "            if line[j] < temp:\n",
    "                temp = line[j]\n",
    "                index = j\n",
    "        line[index], line[i] = line[i], temp\n",
    "\n",
    "\n",
    "matrix = copy.deepcopy(generated_matrix)                \n",
    "t1 = time.time()                \n",
    "for line in matrix:\n",
    "    line = selection_sort(line)\n",
    "t2 = time.time()\n",
    "\n",
    "selection_sort_time = round((t2 - t1) * 1000)\n",
    "\n",
    "out_matr(matrix)\n",
    "\n",
    "\n",
    "print(\"--- {0} ms ---\".format(round((time.time() - start_time)*1000)))\n",
    "time_vibor=(\"--- {0} ms ---\".format(round((time.time() - start_time)*1000)))\n"
   ]
  },
  {
   "cell_type": "code",
   "execution_count": null,
   "id": "roman-silly",
   "metadata": {
    "scrolled": true
   },
   "outputs": [
    {
     "name": "stdout",
     "output_type": "stream",
     "text": [
      "15 16 25 79 90\n",
      "34 38 86 93 96\n",
      "36 41 54 81 94\n",
      "43 55 65 84 97\n",
      "26 68 69 78 84\n",
      "--- 3 ms ---\n"
     ]
    }
   ],
   "source": [
    "# Сортировка вставкой.\n",
    "start_time = time.time()\n",
    "\n",
    "def insertion_sort(line):\n",
    "    for i in range(1, len(line)):\n",
    "        for j in range(i, 0, -1):\n",
    "            if line[j] < line[j - 1]:\n",
    "                line[j], line[j - 1] = line [j - 1], line[j]\n",
    "            else:\n",
    "                break\n",
    "\n",
    "matrix = copy.deepcopy(generated_matrix)\n",
    "\n",
    "t1 = time.time()     \n",
    "\n",
    "for line in matrix:\n",
    "    line = insertion_sort(line)\n",
    "\n",
    "t2 = time.time()\n",
    "\n",
    "insertion_sort_time = round((t2 - t1) * 1000)   \n",
    "\n",
    "out_matr(matrix)\n",
    "\n",
    "print(\"--- {0} ms ---\".format(round((time.time() - start_time)*1000)))"
   ]
  },
  {
   "cell_type": "code",
   "execution_count": null,
   "id": "vital-implementation",
   "metadata": {},
   "outputs": [
    {
     "name": "stdout",
     "output_type": "stream",
     "text": [
      "15 16 25 79 90\n",
      "34 38 86 93 96\n",
      "36 41 54 81 94\n",
      "43 55 65 84 97\n",
      "26 68 69 78 84\n",
      "--- 3 ms ---\n"
     ]
    }
   ],
   "source": [
    "# Сортировка обменом. || Сортировка пузырьком.\n",
    "start_time = time.time()\n",
    "def bubble_sort(line):\n",
    "    n = 1\n",
    "    for i in range (len(line) - 1):\n",
    "        for j in range(len(line) - n):\n",
    "            if line[j] > line[j + 1]:\n",
    "                line[j], line[j + 1] = line[j + 1], line[j]\n",
    "        n += 1\n",
    "\n",
    "matrix = copy.deepcopy(generated_matrix)\n",
    "        \n",
    "t1 = time.time()     \n",
    "for line in matrix:\n",
    "    line = bubble_sort(line)\n",
    "\n",
    "t2 = time.time()\n",
    "\n",
    "bubble_sort_time = round((t2 - t1) * 1000)     \n",
    "    \n",
    "out_matr(matrix)\n",
    "\n",
    "\n",
    "print(\"--- {0} ms ---\".format(round((time.time() - start_time)*1000)))\n",
    "\n",
    "\n"
   ]
  },
  {
   "cell_type": "code",
   "execution_count": null,
   "id": "veterinary-glory",
   "metadata": {},
   "outputs": [
    {
     "name": "stdout",
     "output_type": "stream",
     "text": [
      "15 16 25 79 90\n",
      "34 38 86 93 96\n",
      "36 41 54 81 94\n",
      "43 55 65 84 97\n",
      "26 68 69 78 84\n",
      "--- 1 ms ---\n"
     ]
    }
   ],
   "source": [
    "# Сортировка Шелла.\n",
    "start_time = time.time()\n",
    "\n",
    "def shell_sort(line):\n",
    "    step = len(line) // 2\n",
    "    while step > 0:\n",
    "        for i in range(step, len(line)):\n",
    "            position = i\n",
    "            value = line[i]\n",
    "            while position >= step and line[position - step] > value:\n",
    "                line[position] = line[position - step]\n",
    "                position -= step\n",
    "                line[position] = value\n",
    "        step = step // 2\n",
    "        \n",
    "matrix = copy.deepcopy(generated_matrix)\n",
    "t1 = time.time()\n",
    "for line in matrix:\n",
    "    line = shell_sort(line)\n",
    "\n",
    "t2 = time.time()\n",
    "\n",
    "shell_sort_time = round((t2 - t1) * 1000)     \n",
    "    \n",
    "out_matr(matrix)\n",
    "\n",
    "print(\"--- {0} ms ---\".format(round((time.time() - start_time)*1000)))"
   ]
  },
  {
   "cell_type": "code",
   "execution_count": null,
   "id": "correct-chaos",
   "metadata": {},
   "outputs": [
    {
     "name": "stdout",
     "output_type": "stream",
     "text": [
      "15 16 25 79 90\n",
      "34 38 86 93 96\n",
      "36 41 54 81 94\n",
      "43 55 65 84 97\n",
      "26 68 69 78 84\n",
      "--- 1 ms ---\n"
     ]
    }
   ],
   "source": [
    "# Быстрая сортировка.\n",
    "start_time = time.time()\n",
    "\n",
    "\n",
    "def __quick_sort(line):\n",
    "    if len(line) == 1 or len(line) == 0:\n",
    "        return line\n",
    "    p = line[len(line) - 1]\n",
    "    l = 0\n",
    "    for j in range(len(line)):\n",
    "        if line[j] < p:\n",
    "            line[j], line[l] = line[l], line[j]\n",
    "            l += 1\n",
    "    line.pop(-1)\n",
    "    line.insert(l, p)\n",
    "    return __quick_sort(line[0: l]) + [line[l]] + __quick_sort(line[(l + 1): len(line)])\n",
    "\n",
    "\n",
    "def quick_sort(line):\n",
    "    p = line[len(line) - 1]\n",
    "    l = 0\n",
    "    for j in range(len(line) - 1):\n",
    "        if line[j] < p:\n",
    "            line[j], line[l] = line[l], line[j]\n",
    "            l += 1\n",
    "    line.pop(-1)\n",
    "    line.insert(l, p)\n",
    "    return __quick_sort(line[0: l]) + [line[l]] + __quick_sort(line[(l + 1): len(line)])\n",
    "\n",
    "\n",
    "matrix = copy.deepcopy(generated_matrix)\n",
    "new_matrix = []\n",
    "t1 = time.time()\n",
    "\n",
    "for line in matrix:\n",
    "    new_matrix.append(quick_sort(line))\n",
    "\n",
    "t2 = time.time()\n",
    "\n",
    "quick_sort_time = round((t2 - t1) * 1000)\n",
    "\n",
    "out_matr(new_matrix)\n",
    "\n",
    "print(\"--- {0} ms ---\".format(round((time.time() - start_time) * 1000)))\n",
    "\n",
    "   "
   ]
  },
  {
   "cell_type": "code",
   "execution_count": null,
   "id": "french-czech",
   "metadata": {},
   "outputs": [
    {
     "name": "stdout",
     "output_type": "stream",
     "text": [
      "15 16 25 79 90\n",
      "34 38 86 93 96\n",
      "36 41 54 81 94\n",
      "43 55 65 84 97\n",
      "26 68 69 78 84\n",
      "--- 1 ms ---\n"
     ]
    }
   ],
   "source": [
    "# Турнирная сортировка.\n",
    "start_time = time.time()\n",
    "\n",
    "import heapq\n",
    "\n",
    "\n",
    "def tournament_sort(line):\n",
    "    heap = []\n",
    "    heap_size = int(len(line) / 11)\n",
    "    if heap_size > 63:\n",
    "        heap_size = 63\n",
    "    if heap_size < 7:\n",
    "        heap_size = 7\n",
    "    if len(line) >= heap_size:\n",
    "        heap = line[:heap_size]\n",
    "    else:\n",
    "        heap = line[:]\n",
    "    heapq.heapify(heap)\n",
    "    winners = [float('-inf')]\n",
    "    losers = []\n",
    "\n",
    "    i = heap_size\n",
    "    while i < len(line) or len(heap) > 0:\n",
    "        heap_top = heapq.heappop(heap)\n",
    "        if heap_top >= winners[-1]:\n",
    "            winners.append(heap_top)\n",
    "        else:\n",
    "            losers.append(heap_top)\n",
    "\n",
    "        if i < len(line):\n",
    "            heapq.heappush(heap, line[i])\n",
    "        i += 1\n",
    "\n",
    "    del winners[0]\n",
    "    line = losers + winners\n",
    "\n",
    "    if len(losers) > 0:\n",
    "        return tournament_sort(line)\n",
    "    return line\n",
    "\n",
    "\n",
    "matrix = copy.deepcopy(generated_matrix)\n",
    "new_matrix = []\n",
    "\n",
    "\n",
    "t1 = time.time()\n",
    "\n",
    "for line in matrix:\n",
    "    new_matrix.append(tournament_sort(line))\n",
    "\n",
    "t2 = time.time()\n",
    "\n",
    "tournament_sort_time = round((t2 - t1) * 1000) \n",
    "\n",
    "out_matr(new_matrix)        \n",
    "        \n",
    "\n",
    "\n",
    "print(\"--- {0} ms ---\".format(round((time.time() - start_time)*1000)))\n"
   ]
  },
  {
   "cell_type": "markdown",
   "id": "rental-jerusalem",
   "metadata": {},
   "source": [
    "### Вывод\n"
   ]
  },
  {
   "cell_type": "code",
   "execution_count": null,
   "id": "19e7f6a9",
   "metadata": {},
   "outputs": [],
   "source": []
  }
 ],
 "metadata": {
  "kernelspec": {
   "display_name": "Python 3 (ipykernel)",
   "language": "python",
   "name": "python3"
  },
  "language_info": {
   "codemirror_mode": {
    "name": "ipython",
    "version": 3
   },
   "file_extension": ".py",
   "mimetype": "text/x-python",
   "name": "python",
   "nbconvert_exporter": "python",
   "pygments_lexer": "ipython3",
   "version": "3.6.8"
  }
 },
 "nbformat": 4,
 "nbformat_minor": 5
}
